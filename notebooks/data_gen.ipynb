{
 "cells": [
  {
   "cell_type": "code",
   "execution_count": 2,
   "id": "500f59b0-1398-49cd-82d2-a177c2b64d26",
   "metadata": {
    "tags": []
   },
   "outputs": [],
   "source": [
    "%load_ext autoreload\n",
    "%autoreload 2"
   ]
  },
  {
   "cell_type": "code",
   "execution_count": 3,
   "id": "d01b35ea",
   "metadata": {
    "tags": []
   },
   "outputs": [],
   "source": [
    "import spikeinterface.full as si\n",
    "import MEArec as mr\n",
    "import numpy as np\n",
    "import matplotlib.pyplot as plt\n",
    "import colorcet as cc\n",
    "import math\n",
    "import os\n",
    "\n",
    "def get_ccolor(k):\n",
    "    if k == -1:\n",
    "        return \"#808080\"\n",
    "    else:\n",
    "        return ccolors[k % len(ccolors)]\n",
    "ccolors = cc.glasbey[:31]"
   ]
  },
  {
   "cell_type": "code",
   "execution_count": 6,
   "id": "732eee74",
   "metadata": {
    "tags": []
   },
   "outputs": [],
   "source": [
    "from matplotlib.gridspec import GridSpec\n",
    "# from brainbox.io.one import SpikeSortingLoader\n",
    "# from ibllib.atlas import AllenAtlas\n",
    "# from one.api import ONE\n",
    "# import brainbox.io.one as bbone\n",
    "import numpy as np\n",
    "import datetime\n",
    "from spike_psvae.subtract import read_geom_from_meta\n",
    "from pathlib import Path\n",
    "from spike_psvae.waveform_utils import make_channel_index, make_contiguous_channel_index\n",
    "import matplotlib.pyplot as plt\n",
    "from spike_psvae import denoise, snr_templates, spike_train_utils\n",
    "import torch\n",
    "from spike_psvae.spikeio import read_waveforms\n",
    "\n",
    "from analysis.data_gen_utils import make_dataset, extract_real, extract_sim"
   ]
  },
  {
   "cell_type": "code",
   "execution_count": null,
   "id": "4038b3c8",
   "metadata": {},
   "outputs": [],
   "source": [
    "save_path = '/Users/ankit/Documents/PaninskiLab/contrastive_spikes/mearec_v2'\n",
    "sim_bin_path = '/Users/ankit/Documents/PaninskiLab/spike-psvae/notebook/Neuropixels-64_static_uniform_homogeneous-001.h5'\n",
    "sim_spike_idx, sim_geom, sim_we = extract_sim(sim_bin_path, 1500)\n",
    "selected_sim_units = [2, 5, 7, 13, 16, 21, 29, 43, 47, 56]"
   ]
  },
  {
   "cell_type": "code",
   "execution_count": null,
   "id": "3a1e5d25",
   "metadata": {},
   "outputs": [],
   "source": [
    "make_dataset(sim_bin_path, sim_spike_idx, sim_geom, save_path, sim_we, unit_ids=selected_sim_units, num_chans_extract=1, plot=True)"
   ]
  },
  {
   "cell_type": "code",
   "execution_count": null,
   "id": "028787de",
   "metadata": {},
   "outputs": [],
   "source": [
    "save_path = '/Users/ankit/Documents/PaninskiLab/contrastive_spikes/dytest'\n",
    "real_bin_path = '/Users/ankit/Documents/PaninskiLab/spike-psvae/notebook/destriped__spikeglx_ephysData_g0_t0.imec0.ap.stream.cbin'\n",
    "meta_file = '/Users/ankit/Documents/PaninskiLab/spike-psvae/notebook/destriped__spikeglx_ephysData_g0_t0.imec0.ap.stream.meta'\n",
    "pid = 'dab512bd-a02d-4c1f-8dbc-9155a163efc0'\n",
    "real_spike_idx, real_geom, chan_idx, temps = extract_real(real_bin_path, meta_file, pid, [200, 500])\n",
    "selected_real_units = [9, 11, 13, 65, 79, 82, 267, 258, 318, 329]"
   ]
  },
  {
   "cell_type": "code",
   "execution_count": null,
   "id": "84c7e543",
   "metadata": {},
   "outputs": [],
   "source": [
    "make_dataset(real_bin_path, real_spike_idx, real_geom, save_path, chan_index=chan_idx, templates=temps, unit_ids=selected_real_units, plot=True)"
   ]
  },
  {
   "cell_type": "code",
   "execution_count": null,
   "id": "695b067b",
   "metadata": {},
   "outputs": [],
   "source": [
    "print(real_spike_idx.shape)"
   ]
  },
  {
   "cell_type": "code",
   "execution_count": null,
   "id": "96b379a7",
   "metadata": {},
   "outputs": [],
   "source": [
    "save_path = '/Users/ankit/Documents/PaninskiLab/contrastive_spikes/dytest'\n",
    "real_bin_path = '/Users/ankit/Documents/PaninskiLab/spike-psvae/notebook/destriped__spikeglx_ephysData_g0_t0.imec0.ap.stream.cbin'\n",
    "meta_file = '/Users/ankit/Documents/PaninskiLab/spike-psvae/notebook/destriped__spikeglx_ephysData_g0_t0.imec0.ap.stream.meta'\n",
    "pid = 'febb430e-2d50-4f83-87a0-b5ffbb9a4943'\n",
    "real_spike_idx, real_geom, chan_idx, temps = extract_real(real_bin_path, meta_file, pid, [0, 600])\n",
    "selected_real_units = [9, 11, 13, 65, 79, 82, 267, 258, 318, 329]\n"
   ]
  }
 ],
 "metadata": {
  "kernelspec": {
   "display_name": "Python 3 (ipykernel)",
   "language": "python",
   "name": "python3"
  },
  "language_info": {
   "codemirror_mode": {
    "name": "ipython",
    "version": 3
   },
   "file_extension": ".py",
   "mimetype": "text/x-python",
   "name": "python",
   "nbconvert_exporter": "python",
   "pygments_lexer": "ipython3",
   "version": "3.10.10"
  }
 },
 "nbformat": 4,
 "nbformat_minor": 5
}
