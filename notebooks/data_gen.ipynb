{
 "cells": [
  {
   "cell_type": "code",
   "execution_count": 7,
   "id": "500f59b0-1398-49cd-82d2-a177c2b64d26",
   "metadata": {
    "tags": []
   },
   "outputs": [
    {
     "name": "stdout",
     "output_type": "stream",
     "text": [
      "The autoreload extension is already loaded. To reload it, use:\n",
      "  %reload_ext autoreload\n"
     ]
    }
   ],
   "source": [
    "%load_ext autoreload\n",
    "%autoreload 2"
   ]
  },
  {
   "cell_type": "code",
   "execution_count": 8,
   "id": "d01b35ea",
   "metadata": {
    "tags": []
   },
   "outputs": [],
   "source": [
    "import spikeinterface.full as si\n",
    "import MEArec as mr\n",
    "import numpy as np\n",
    "import matplotlib.pyplot as plt\n",
    "import colorcet as cc\n",
    "import math\n",
    "import os\n",
    "import h5py\n",
    "\n",
    "def get_ccolor(k):\n",
    "    if k == -1:\n",
    "        return \"#808080\"\n",
    "    else:\n",
    "        return ccolors[k % len(ccolors)]\n",
    "ccolors = cc.glasbey[:31]"
   ]
  },
  {
   "cell_type": "code",
   "execution_count": 11,
   "id": "732eee74",
   "metadata": {
    "tags": []
   },
   "outputs": [],
   "source": [
    "from matplotlib.gridspec import GridSpec\n",
    "from brainbox.io.one import SpikeSortingLoader\n",
    "from ibllib.atlas import AllenAtlas\n",
    "from one.api import ONE\n",
    "import brainbox.io.one as bbone\n",
    "import numpy as np\n",
    "import datetime\n",
    "from spike_psvae.subtract import read_geom_from_meta\n",
    "from pathlib import Path\n",
    "from spike_psvae.waveform_utils import make_channel_index, make_contiguous_channel_index\n",
    "import matplotlib.pyplot as plt\n",
    "from spike_psvae import denoise, snr_templates, spike_train_utils\n",
    "import torch\n",
    "from spike_psvae.spikeio import read_waveforms\n",
    "\n",
    "from analysis.data_gen_utils import make_dataset, extract_IBL, extract_sim"
   ]
  },
  {
   "cell_type": "code",
   "execution_count": null,
   "id": "4038b3c8",
   "metadata": {},
   "outputs": [],
   "source": [
    "# save_path = '/Users/ankit/Documents/PaninskiLab/contrastive_spikes/mearec_v2'\n",
    "# sim_bin_path = '/Users/ankit/Documents/PaninskiLab/spike-psvae/notebook/Neuropixels-64_static_uniform_homogeneous-001.h5'\n",
    "# sim_spike_idx, sim_geom, sim_we = extract_sim(sim_bin_path, 1500)\n",
    "# selected_sim_units = [2, 5, 7, 13, 16, 21, 29, 43, 47, 56]"
   ]
  },
  {
   "cell_type": "code",
   "execution_count": null,
   "id": "3a1e5d25",
   "metadata": {},
   "outputs": [],
   "source": [
    "# make_dataset(sim_bin_path, sim_spike_idx, sim_geom, save_path, sim_we, unit_ids=selected_sim_units, num_chans_extract=1, plot=True)"
   ]
  },
  {
   "cell_type": "code",
   "execution_count": 10,
   "id": "028787de",
   "metadata": {},
   "outputs": [],
   "source": [
    "# save_path = '/Users/ankit/Documents/PaninskiLab/contrastive_spikes/dytest'\n",
    "# real_bin_path = '/Users/ankit/Documents/PaninskiLab/spike-psvae/notebook/destriped__spikeglx_ephysData_g0_t0.imec0.ap.stream.cbin'\n",
    "# meta_file = '/Users/ankit/Documents/PaninskiLab/spike-psvae/notebook/destriped__spikeglx_ephysData_g0_t0.imec0.ap.stream.meta'\n",
    "# pid = 'dab512bd-a02d-4c1f-8dbc-9155a163efc0'\n",
    "# real_spike_idx, real_geom, chan_idx, temps = extract_IBL(real_bin_path, meta_file, pid, [200, 500])\n",
    "# selected_real_units = [9, 11, 13, 65, 79, 82, 267, 258, 318, 329]"
   ]
  },
  {
   "cell_type": "code",
   "execution_count": null,
   "id": "84c7e543",
   "metadata": {},
   "outputs": [],
   "source": [
    "# make_dataset(real_bin_path, real_spike_idx, real_geom, save_path, chan_index=chan_idx, templates=temps, unit_ids=selected_real_units, plot=True)"
   ]
  },
  {
   "cell_type": "code",
   "execution_count": null,
   "id": "695b067b",
   "metadata": {},
   "outputs": [],
   "source": [
    "# print(real_spike_idx.shape)"
   ]
  },
  {
   "cell_type": "code",
   "execution_count": null,
   "id": "96b379a7",
   "metadata": {},
   "outputs": [],
   "source": [
    "# save_path = '/Users/ankit/Documents/PaninskiLab/contrastive_spikes/dytest'\n",
    "# real_bin_path = '/Users/ankit/Documents/PaninskiLab/spike-psvae/notebook/destriped__spikeglx_ephysData_g0_t0.imec0.ap.stream.cbin'\n",
    "# meta_file = '/Users/ankit/Documents/PaninskiLab/spike-psvae/notebook/destriped__spikeglx_ephysData_g0_t0.imec0.ap.stream.meta'\n",
    "# pid = 'febb430e-2d50-4f83-87a0-b5ffbb9a4943'\n",
    "# real_spike_idx, real_geom, chan_idx, temps = extract_IBL(real_bin_path, meta_file, pid, [0, 600])\n",
    "# selected_real_units = [9, 11, 13, 65, 79, 82, 267, 258, 318, 329]"
   ]
  },
  {
   "cell_type": "code",
   "execution_count": 13,
   "id": "337ad140-6110-4ade-a969-a4d502d3b035",
   "metadata": {
    "tags": []
   },
   "outputs": [],
   "source": [
    "import h5py\n",
    "sub_file = '/moto/stats/users/ch3676/dy_016_raw_ephys_destriped_snippets/subtraction.h5'\n",
    "with h5py.File(sub_file) as h5:\n",
    "    spike_index = h5[\"spike_index\"][:]"
   ]
  },
  {
   "cell_type": "code",
   "execution_count": 47,
   "id": "c8f9823c-33ff-40ec-8653-33a8dd8c43ca",
   "metadata": {
    "tags": []
   },
   "outputs": [],
   "source": [
    "#load subtraction file from detection\n",
    "sub_file = '/moto/stats/users/ch3676/dy_016_raw_ephys_destriped_snippets/subtraction.h5'\n",
    "with h5py.File(sub_file) as h5:\n",
    "    spike_index = h5[\"spike_index\"][:]\n",
    "\n",
    "#data and geom paths\n",
    "data_path = '/moto/stats/users/ch3676/dy_016_raw_ephys_destriped_snippets/'\n",
    "data_name = 'destriped__spikeglx_ephysData_g0_t0.imec0.ap.stream-002.cbin'\n",
    "raw_data_bin = Path(data_path + data_name)\n",
    "geom = np.load(\"/moto/stats/users/ch3676/datasets_contrastive_ephys/multi_channel/DY016_random_neurons/geom.npy\")    \n",
    "geom_dims = (0,1)\n",
    "output_folder = '/moto/stats/users/ch3676/dy_016_raw_ephys_destriped_snippets/contrastive_dataset'"
   ]
  },
  {
   "cell_type": "code",
   "execution_count": 125,
   "id": "4e493878-a343-4a1b-b341-38576b25d1a6",
   "metadata": {
    "tags": []
   },
   "outputs": [],
   "source": [
    "#get a subset of the data for training, validation, and testing\n",
    "n_div = 10\n",
    "num_spikes_train = 1200\n",
    "num_spikes_val = 100\n",
    "num_spikes_test = 200\n",
    "num_spikes_cont = num_spikes_train*n_div + num_spikes_val*n_div + num_spikes_test*n_div\n",
    "\n",
    "num_spikes_total = spike_index.shape[0]\n",
    "np.random.seed(0)\n",
    "spike_indices_cont = np.random.choice(np.arange(num_spikes_total), size=num_spikes_cont)\n",
    "spike_index_subset = spike_index[spike_indices_cont]\n",
    "train_set, val_set, test_set, train_geom_locs, val_geom_locs, test_geom_locs, train_max_chan, val_max_chan, test_max_chan = make_dataset(raw_data_bin, spike_index_subset, geom, output_folder, geom_dims=geom_dims, train_num=num_spikes_train, val_num=num_spikes_val, test_num=num_spikes_test, plot=True)"
   ]
  },
  {
   "cell_type": "code",
   "execution_count": 157,
   "id": "408a5934-32df-4e1a-878e-4a71717493cb",
   "metadata": {
    "tags": []
   },
   "outputs": [
    {
     "data": {
      "text/plain": [
       "Text(0, 0.5, 'Num spikes')"
      ]
     },
     "execution_count": 157,
     "metadata": {},
     "output_type": "execute_result"
    },
    {
     "data": {
      "image/png": "[encoded data removed]",
      "text/plain": [
       "<Figure size 640x480 with 1 Axes>"
      ]
     },
     "metadata": {},
     "output_type": "display_data"
    }
   ],
   "source": [
    "plt.hist(spike_index_subset[:,1], bins=384)\n",
    "plt.xlabel('Channels')\n",
    "plt.ylabel('Num spikes')"
   ]
  },
  {
   "cell_type": "code",
   "execution_count": 153,
   "id": "1ff1563b-9790-44dd-8fd0-0f2e9597e5d1",
   "metadata": {
    "tags": []
   },
   "outputs": [
    {
     "data": {
      "text/plain": [
       "(2000, 21, 121)"
      ]
     },
     "execution_count": 153,
     "metadata": {},
     "output_type": "execute_result"
    }
   ],
   "source": [
    "test_set.shape"
   ]
  },
  {
   "cell_type": "code",
   "execution_count": 149,
   "id": "2022180d-6a8a-477b-ac8a-d4a953f2a99c",
   "metadata": {
    "tags": []
   },
   "outputs": [],
   "source": [
    "# train_id = 122\n",
    "# print(spike_index_subset[train_id])\n",
    "# print(geom[train_max_chan[train_id][0]])\n",
    "# print(geom[spike_index_subset[train_id][1]])\n",
    "# print(train_geom_locs[train_id][train_geom_locs.shape[1]//2])"
   ]
  },
  {
   "cell_type": "code",
   "execution_count": 150,
   "id": "b46f2b4e-035f-4aa7-af22-7694db656982",
   "metadata": {
    "tags": []
   },
   "outputs": [],
   "source": [
    "# num_extra_chans = 2\n",
    "# wf_id = 5678\n",
    "# wfs_train = train_set[:,train_set.shape[1]//2-num_extra_chans:train_set.shape[1]//2+num_extra_chans+1,:]\n",
    "# plt.plot(wfs_train[wf_id].flatten())"
   ]
  }
 ],
 "metadata": {
  "kernelspec": {
   "display_name": "Python 3 (ipykernel)",
   "language": "python",
   "name": "python3"
  },
  "language_info": {
   "codemirror_mode": {
    "name": "ipython",
    "version": 3
   },
   "file_extension": ".py",
   "mimetype": "text/x-python",
   "name": "python",
   "nbconvert_exporter": "python",
   "pygments_lexer": "ipython3",
   "version": "3.10.10"
  }
 },
 "nbformat": 4,
 "nbformat_minor": 5
}
