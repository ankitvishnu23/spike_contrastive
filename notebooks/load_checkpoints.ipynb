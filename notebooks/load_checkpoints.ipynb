{
 "cells": [
  {
   "cell_type": "code",
   "execution_count": 1,
   "id": "11cee4b3-6ac2-42fb-a4fb-5ca95e4bcc0a",
   "metadata": {
    "tags": []
   },
   "outputs": [],
   "source": [
    "from load_models import load_ckpt, get_dataloader"
   ]
  },
  {
   "cell_type": "code",
   "execution_count": 2,
   "id": "7e84aebc-e318-4041-b296-01b267f891b3",
   "metadata": {
    "tags": []
   },
   "outputs": [],
   "source": [
    "single_ckpt_path = './runs/0504out_dim5proj_dim5batch-size512lr0.0003epochs800fp16use_gptis_causaln_embd32add_train/checkpoint.pth'\n",
    "multi_ckpt_path = '/moto/stats/users/ch3676/spike_ddp_models_0504/0502_mc_gpt_conseq_causal_nembd64_block1331_bs128_extra5_lr0.0001_knn10_addtrain/checkpoint.pth'\n",
    "multi_data_path='/home/gridsan/cloh/spike_data/multi_dy016_random_neurons_04_28_2023'\n",
    "single_data_path='/home/gridsan/cloh/spike_data/single_dy016_random_neurons_04_28_2023'\n"
   ]
  },
  {
   "cell_type": "code",
   "execution_count": null,
   "id": "5bcfe23c-2062-4926-8db4-65aa63b7fdb0",
   "metadata": {},
   "outputs": [],
   "source": []
  },
  {
   "cell_type": "code",
   "execution_count": 3,
   "id": "639e082c-b0ba-403f-b768-a1a2dbc65c00",
   "metadata": {
    "tags": []
   },
   "outputs": [
    {
     "name": "stdout",
     "output_type": "stream",
     "text": [
      "WARNING: using slow attention. Flash Attention requires PyTorch >= 2.0\n",
      "WARNING: using slow attention. Flash Attention requires PyTorch >= 2.0\n",
      "WARNING: using slow attention. Flash Attention requires PyTorch >= 2.0\n",
      "WARNING: using slow attention. Flash Attention requires PyTorch >= 2.0\n",
      "WARNING: using slow attention. Flash Attention requires PyTorch >= 2.0\n",
      "WARNING: using slow attention. Flash Attention requires PyTorch >= 2.0\n",
      "WARNING: using slow attention. Flash Attention requires PyTorch >= 2.0\n",
      "WARNING: using slow attention. Flash Attention requires PyTorch >= 2.0\n",
      "WARNING: using slow attention. Flash Attention requires PyTorch >= 2.0\n",
      "WARNING: using slow attention. Flash Attention requires PyTorch >= 2.0\n",
      "WARNING: using slow attention. Flash Attention requires PyTorch >= 2.0\n",
      "WARNING: using slow attention. Flash Attention requires PyTorch >= 2.0\n",
      "WARNING: using slow attention. Flash Attention requires PyTorch >= 2.0\n",
      "WARNING: using slow attention. Flash Attention requires PyTorch >= 2.0\n",
      "WARNING: using slow attention. Flash Attention requires PyTorch >= 2.0\n",
      "WARNING: using slow attention. Flash Attention requires PyTorch >= 2.0\n",
      "WARNING: using slow attention. Flash Attention requires PyTorch >= 2.0\n",
      "WARNING: using slow attention. Flash Attention requires PyTorch >= 2.0\n",
      "WARNING: using slow attention. Flash Attention requires PyTorch >= 2.0\n",
      "WARNING: using slow attention. Flash Attention requires PyTorch >= 2.0\n",
      "number of parameters: 0.99M\n",
      "Using projector; batchnorm False with depth 3; hidden_dim=512\n",
      "missing keys []\n",
      "unexpected keys ['online_head.weight', 'online_head.bias']\n"
     ]
    }
   ],
   "source": [
    "model = load_ckpt(multi_ckpt_path, multi_chan = True, rep_after_proj=True)"
   ]
  },
  {
   "cell_type": "code",
   "execution_count": 4,
   "id": "5b70c7d8-2e47-410f-8a8f-6e970efadb25",
   "metadata": {},
   "outputs": [
    {
     "name": "stdout",
     "output_type": "stream",
     "text": [
      "True spikes_train.npy\n",
      "(12000, 21, 121)\n",
      "(3000, 21, 121)\n"
     ]
    }
   ],
   "source": [
    "train_loader = get_dataloader(multi_data_path, multi_chan=True, split='train')\n",
    "test_loader = get_dataloader(multi_data_path, multi_chan=True, split='test')\n"
   ]
  },
  {
   "cell_type": "code",
   "execution_count": 5,
   "id": "56637e08-defe-42c7-aa94-49b48450efe7",
   "metadata": {},
   "outputs": [],
   "source": [
    "from ddp_utils import knn_predict\n",
    "import torch\n",
    "def knn_monitor(net, memory_data_loader, test_data_loader, device='cuda', k=200, t=0.1, hide_progress=False,\n",
    "                targets=None, multi_chan=False):\n",
    "    if not targets:\n",
    "        targets = memory_data_loader.dataset.targets\n",
    "\n",
    "    net.eval()\n",
    "    classes = 100\n",
    "    total_top1, total_top5, total_num, feature_bank = 0.0, 0.0, 0, []\n",
    "    with torch.no_grad():\n",
    "        for data, target in memory_data_loader:\n",
    "            if not multi_chan:\n",
    "                data = torch.squeeze(data, dim=1)\n",
    "                data = torch.unsqueeze(data, dim=-1)\n",
    "            else:\n",
    "                data = data.view(-1, 11*121)\n",
    "                data = torch.unsqueeze(data, dim=-1)\n",
    "            \n",
    "            feature = net(data.to(device=device, non_blocking=True))\n",
    "            \n",
    "            feature = torch.nn.functional.normalize(feature, dim=1)\n",
    "            feature_bank.append(feature)\n",
    "        # [D, N]\n",
    "        feature_bank = torch.cat(feature_bank, dim=0).t().contiguous()\n",
    "        # [N]\n",
    "        feature_labels = torch.tensor(targets, device=feature_bank.device)\n",
    "        \n",
    "        # loop test data to predict the label by weighted knn search\n",
    "        for data, target in test_data_loader:\n",
    "            \n",
    "            data, target = data.to(device=device, non_blocking=True), target.to(device=device, non_blocking=True)\n",
    "            \n",
    "            if not multi_chan:\n",
    "                data = torch.squeeze(data, dim=1)\n",
    "                data = torch.unsqueeze(data, dim=-1)\n",
    "            else:\n",
    "                data = data.view(-1, 11*121)\n",
    "                data = torch.unsqueeze(data, dim=-1)\n",
    "            \n",
    "            feature = net(data)\n",
    "            \n",
    "            feature = torch.nn.functional.normalize(feature, dim=1)\n",
    "\n",
    "            pred_labels = knn_predict(feature, feature_bank, feature_labels, classes, k, t)\n",
    "\n",
    "            total_num += data.size(0)\n",
    "            total_top1 += (pred_labels[:, 0] == target).float().sum().item()\n",
    "    return total_top1 / total_num * 100"
   ]
  },
  {
   "cell_type": "code",
   "execution_count": 8,
   "id": "904316ba-0d68-420d-b82d-36fc912ae6c0",
   "metadata": {},
   "outputs": [
    {
     "name": "stdout",
     "output_type": "stream",
     "text": [
      "knn if rep AFTER proj: 98.56666666666666\n"
     ]
    }
   ],
   "source": [
    "knn_score = knn_monitor(net=model.cuda(), memory_data_loader=train_loader, test_data_loader=test_loader, device='cuda',k=200, hide_progress=True, multi_chan=True)\n",
    "print(\"knn if rep AFTER proj:\", knn_score)"
   ]
  },
  {
   "cell_type": "code",
   "execution_count": 9,
   "id": "79bdd89f-6ec8-45e4-bf83-59381c278fa4",
   "metadata": {},
   "outputs": [
    {
     "name": "stdout",
     "output_type": "stream",
     "text": [
      "WARNING: using slow attention. Flash Attention requires PyTorch >= 2.0\n",
      "WARNING: using slow attention. Flash Attention requires PyTorch >= 2.0\n",
      "WARNING: using slow attention. Flash Attention requires PyTorch >= 2.0\n",
      "WARNING: using slow attention. Flash Attention requires PyTorch >= 2.0\n",
      "WARNING: using slow attention. Flash Attention requires PyTorch >= 2.0\n",
      "WARNING: using slow attention. Flash Attention requires PyTorch >= 2.0\n",
      "WARNING: using slow attention. Flash Attention requires PyTorch >= 2.0\n",
      "WARNING: using slow attention. Flash Attention requires PyTorch >= 2.0\n",
      "WARNING: using slow attention. Flash Attention requires PyTorch >= 2.0\n",
      "WARNING: using slow attention. Flash Attention requires PyTorch >= 2.0\n",
      "WARNING: using slow attention. Flash Attention requires PyTorch >= 2.0\n",
      "WARNING: using slow attention. Flash Attention requires PyTorch >= 2.0\n",
      "WARNING: using slow attention. Flash Attention requires PyTorch >= 2.0\n",
      "WARNING: using slow attention. Flash Attention requires PyTorch >= 2.0\n",
      "WARNING: using slow attention. Flash Attention requires PyTorch >= 2.0\n",
      "WARNING: using slow attention. Flash Attention requires PyTorch >= 2.0\n",
      "WARNING: using slow attention. Flash Attention requires PyTorch >= 2.0\n",
      "WARNING: using slow attention. Flash Attention requires PyTorch >= 2.0\n",
      "WARNING: using slow attention. Flash Attention requires PyTorch >= 2.0\n",
      "WARNING: using slow attention. Flash Attention requires PyTorch >= 2.0\n",
      "number of parameters: 0.99M\n",
      "missing keys []\n",
      "unexpected keys ['projector.proj_block.0.weight', 'projector.proj_block.0.bias', 'projector.proj_block.2.weight', 'projector.proj_block.2.bias', 'projector.proj_block.4.weight', 'projector.proj_block.4.bias', 'online_head.weight', 'online_head.bias']\n",
      "knn if rep BEFORE proj: 98.33333333333333\n"
     ]
    }
   ],
   "source": [
    "model2 = load_ckpt(multi_ckpt_path, multi_chan = True, rep_after_proj=False)\n",
    "knn_score = knn_monitor(net=model2.cuda(), memory_data_loader=train_loader, test_data_loader=test_loader, device='cuda',k=200, hide_progress=True, multi_chan=True)\n",
    "print(\"knn if rep BEFORE proj:\", knn_score)"
   ]
  },
  {
   "cell_type": "code",
   "execution_count": 3,
   "id": "e19e714d-61aa-4d3d-b0ad-5cdcad1dfdeb",
   "metadata": {},
   "outputs": [
    {
     "name": "stdout",
     "output_type": "stream",
     "text": [
      "WARNING: using slow attention. Flash Attention requires PyTorch >= 2.0\n",
      "WARNING: using slow attention. Flash Attention requires PyTorch >= 2.0\n",
      "WARNING: using slow attention. Flash Attention requires PyTorch >= 2.0\n",
      "WARNING: using slow attention. Flash Attention requires PyTorch >= 2.0\n",
      "WARNING: using slow attention. Flash Attention requires PyTorch >= 2.0\n",
      "WARNING: using slow attention. Flash Attention requires PyTorch >= 2.0\n",
      "WARNING: using slow attention. Flash Attention requires PyTorch >= 2.0\n",
      "WARNING: using slow attention. Flash Attention requires PyTorch >= 2.0\n",
      "WARNING: using slow attention. Flash Attention requires PyTorch >= 2.0\n",
      "WARNING: using slow attention. Flash Attention requires PyTorch >= 2.0\n",
      "WARNING: using slow attention. Flash Attention requires PyTorch >= 2.0\n",
      "WARNING: using slow attention. Flash Attention requires PyTorch >= 2.0\n",
      "WARNING: using slow attention. Flash Attention requires PyTorch >= 2.0\n",
      "WARNING: using slow attention. Flash Attention requires PyTorch >= 2.0\n",
      "WARNING: using slow attention. Flash Attention requires PyTorch >= 2.0\n",
      "WARNING: using slow attention. Flash Attention requires PyTorch >= 2.0\n",
      "WARNING: using slow attention. Flash Attention requires PyTorch >= 2.0\n",
      "WARNING: using slow attention. Flash Attention requires PyTorch >= 2.0\n",
      "WARNING: using slow attention. Flash Attention requires PyTorch >= 2.0\n",
      "WARNING: using slow attention. Flash Attention requires PyTorch >= 2.0\n",
      "Using projector; batchnorm False with depth 3; hidden_dim=512\n",
      "number of parameters: 0.52M\n",
      "missing keys ['backbone.projector.proj_block.0.weight', 'backbone.projector.proj_block.0.bias', 'backbone.projector.proj_block.2.weight', 'backbone.projector.proj_block.2.bias', 'backbone.projector.proj_block.4.weight', 'backbone.projector.proj_block.4.bias']\n",
      "unexpected keys ['projector.proj_block.0.weight', 'projector.proj_block.0.bias', 'projector.proj_block.2.weight', 'projector.proj_block.2.bias', 'projector.proj_block.4.weight', 'projector.proj_block.4.bias']\n",
      "False spikes_train.npy\n",
      "(12000, 121)\n",
      "(3000, 121)\n"
     ]
    }
   ],
   "source": [
    "## Single channel\n",
    "\n",
    "model = load_ckpt(single_ckpt_path, multi_chan = False, rep_after_proj=False)\n",
    "single_train_loader = get_dataloader(single_data_path, multi_chan=False, split='train')\n",
    "single_test_loader = get_dataloader(single_data_path, multi_chan=False, split='test')\n"
   ]
  },
  {
   "cell_type": "code",
   "execution_count": 6,
   "id": "17293f10-c760-4398-9ca6-334672fee879",
   "metadata": {},
   "outputs": [
    {
     "name": "stdout",
     "output_type": "stream",
     "text": [
      "Single channel; knn rep BEFORE proj: 83.73333333333333\n"
     ]
    }
   ],
   "source": [
    "knn_score = knn_monitor(net=model.cuda(), memory_data_loader=single_train_loader, test_data_loader=single_test_loader, device='cuda',k=200, hide_progress=True, multi_chan=False)\n",
    "print(\"Single channel; knn rep BEFORE proj:\", knn_score)"
   ]
  },
  {
   "cell_type": "code",
   "execution_count": 7,
   "id": "16da9a14-3a68-4313-bcc6-3b3cd9d8f415",
   "metadata": {},
   "outputs": [
    {
     "name": "stdout",
     "output_type": "stream",
     "text": [
      "WARNING: using slow attention. Flash Attention requires PyTorch >= 2.0\n",
      "WARNING: using slow attention. Flash Attention requires PyTorch >= 2.0\n",
      "WARNING: using slow attention. Flash Attention requires PyTorch >= 2.0\n",
      "WARNING: using slow attention. Flash Attention requires PyTorch >= 2.0\n",
      "WARNING: using slow attention. Flash Attention requires PyTorch >= 2.0\n",
      "WARNING: using slow attention. Flash Attention requires PyTorch >= 2.0\n",
      "WARNING: using slow attention. Flash Attention requires PyTorch >= 2.0\n",
      "WARNING: using slow attention. Flash Attention requires PyTorch >= 2.0\n",
      "WARNING: using slow attention. Flash Attention requires PyTorch >= 2.0\n",
      "WARNING: using slow attention. Flash Attention requires PyTorch >= 2.0\n",
      "WARNING: using slow attention. Flash Attention requires PyTorch >= 2.0\n",
      "WARNING: using slow attention. Flash Attention requires PyTorch >= 2.0\n",
      "WARNING: using slow attention. Flash Attention requires PyTorch >= 2.0\n",
      "WARNING: using slow attention. Flash Attention requires PyTorch >= 2.0\n",
      "WARNING: using slow attention. Flash Attention requires PyTorch >= 2.0\n",
      "WARNING: using slow attention. Flash Attention requires PyTorch >= 2.0\n",
      "WARNING: using slow attention. Flash Attention requires PyTorch >= 2.0\n",
      "WARNING: using slow attention. Flash Attention requires PyTorch >= 2.0\n",
      "WARNING: using slow attention. Flash Attention requires PyTorch >= 2.0\n",
      "WARNING: using slow attention. Flash Attention requires PyTorch >= 2.0\n",
      "Using projector; batchnorm False with depth 3; hidden_dim=512\n",
      "number of parameters: 0.52M\n",
      "Using projector; batchnorm False with depth 3; hidden_dim=512\n",
      "missing keys ['backbone.projector.proj_block.0.weight', 'backbone.projector.proj_block.0.bias', 'backbone.projector.proj_block.2.weight', 'backbone.projector.proj_block.2.bias', 'backbone.projector.proj_block.4.weight', 'backbone.projector.proj_block.4.bias']\n",
      "unexpected keys []\n"
     ]
    }
   ],
   "source": [
    "model2 = load_ckpt(single_ckpt_path, multi_chan = False, rep_after_proj=True)\n"
   ]
  },
  {
   "cell_type": "code",
   "execution_count": 9,
   "id": "579f8cdc-0f4b-4ffb-95b6-ef9c977c004f",
   "metadata": {},
   "outputs": [
    {
     "name": "stdout",
     "output_type": "stream",
     "text": [
      "Single channel; knn rep AFTER proj: 73.66666666666667\n"
     ]
    }
   ],
   "source": [
    "knn_score = knn_monitor(net=model2.cuda(), memory_data_loader=single_train_loader, test_data_loader=single_test_loader, device='cuda',k=200, hide_progress=True, multi_chan=False)\n",
    "print(\"Single channel; knn rep AFTER proj:\", knn_score)"
   ]
  }
 ],
 "metadata": {
  "kernelspec": {
   "display_name": "Python 3 (ipykernel)",
   "language": "python",
   "name": "python3"
  },
  "language_info": {
   "codemirror_mode": {
    "name": "ipython",
    "version": 3
   },
   "file_extension": ".py",
   "mimetype": "text/x-python",
   "name": "python",
   "nbconvert_exporter": "python",
   "pygments_lexer": "ipython3",
   "version": "3.10.10"
  },
  "latex_envs": {
   "LaTeX_envs_menu_present": true,
   "autoclose": false,
   "autocomplete": true,
   "bibliofile": "biblio.bib",
   "cite_by": "apalike",
   "current_citInitial": 1,
   "eqLabelWithNumbers": true,
   "eqNumInitial": 1,
   "hotkeys": {
    "equation": "Ctrl-E",
    "itemize": "Ctrl-I"
   },
   "labels_anchors": false,
   "latex_user_defs": false,
   "report_style_numbering": false,
   "user_envs_cfg": false
  },
  "toc": {
   "base_numbering": 1,
   "nav_menu": {},
   "number_sections": true,
   "sideBar": true,
   "skip_h1_title": false,
   "title_cell": "Table of Contents",
   "title_sidebar": "Contents",
   "toc_cell": false,
   "toc_position": {},
   "toc_section_display": true,
   "toc_window_display": false
  }
 },
 "nbformat": 4,
 "nbformat_minor": 5
}
